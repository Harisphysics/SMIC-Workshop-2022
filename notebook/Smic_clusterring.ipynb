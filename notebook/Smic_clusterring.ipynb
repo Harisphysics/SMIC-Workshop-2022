{
  "nbformat": 4,
  "nbformat_minor": 0,
  "metadata": {
    "colab": {
      "name": "Smic clusterring.ipynb",
      "provenance": [],
      "collapsed_sections": []
    },
    "kernelspec": {
      "name": "python3",
      "display_name": "Python 3"
    },
    "language_info": {
      "name": "python"
    }
  },
  "cells": [
    {
      "cell_type": "code",
      "execution_count": null,
      "metadata": {
        "id": "CYuKg6wDuEpA"
      },
      "outputs": [],
      "source": [
        "from sklearn.cluster import KMeans\n",
        "import pandas as pd\n",
        "import matplotlib.pyplot as plt"
      ]
    },
    {
      "cell_type": "code",
      "source": [
        "df = pd.read_csv(\"Chapter06DataSet.csv\")"
      ],
      "metadata": {
        "id": "0MyfNgvXunqr"
      },
      "execution_count": null,
      "outputs": []
    },
    {
      "cell_type": "code",
      "source": [
        "df.head()"
      ],
      "metadata": {
        "colab": {
          "base_uri": "https://localhost:8080/",
          "height": 206
        },
        "id": "hfyT9ZUxvJpZ",
        "outputId": "e037d6c9-491f-4b1a-ef43-f1236b012e29"
      },
      "execution_count": null,
      "outputs": [
        {
          "output_type": "execute_result",
          "data": {
            "text/plain": [
              "   Weight  Cholesterol  Gender\n",
              "0     102          111       1\n",
              "1     115          135       1\n",
              "2     115          136       1\n",
              "3     140          167       0\n",
              "4     130          158       1"
            ],
            "text/html": [
              "\n",
              "  <div id=\"df-87acd531-3153-4266-911c-ea1b111cfa22\">\n",
              "    <div class=\"colab-df-container\">\n",
              "      <div>\n",
              "<style scoped>\n",
              "    .dataframe tbody tr th:only-of-type {\n",
              "        vertical-align: middle;\n",
              "    }\n",
              "\n",
              "    .dataframe tbody tr th {\n",
              "        vertical-align: top;\n",
              "    }\n",
              "\n",
              "    .dataframe thead th {\n",
              "        text-align: right;\n",
              "    }\n",
              "</style>\n",
              "<table border=\"1\" class=\"dataframe\">\n",
              "  <thead>\n",
              "    <tr style=\"text-align: right;\">\n",
              "      <th></th>\n",
              "      <th>Weight</th>\n",
              "      <th>Cholesterol</th>\n",
              "      <th>Gender</th>\n",
              "    </tr>\n",
              "  </thead>\n",
              "  <tbody>\n",
              "    <tr>\n",
              "      <th>0</th>\n",
              "      <td>102</td>\n",
              "      <td>111</td>\n",
              "      <td>1</td>\n",
              "    </tr>\n",
              "    <tr>\n",
              "      <th>1</th>\n",
              "      <td>115</td>\n",
              "      <td>135</td>\n",
              "      <td>1</td>\n",
              "    </tr>\n",
              "    <tr>\n",
              "      <th>2</th>\n",
              "      <td>115</td>\n",
              "      <td>136</td>\n",
              "      <td>1</td>\n",
              "    </tr>\n",
              "    <tr>\n",
              "      <th>3</th>\n",
              "      <td>140</td>\n",
              "      <td>167</td>\n",
              "      <td>0</td>\n",
              "    </tr>\n",
              "    <tr>\n",
              "      <th>4</th>\n",
              "      <td>130</td>\n",
              "      <td>158</td>\n",
              "      <td>1</td>\n",
              "    </tr>\n",
              "  </tbody>\n",
              "</table>\n",
              "</div>\n",
              "      <button class=\"colab-df-convert\" onclick=\"convertToInteractive('df-87acd531-3153-4266-911c-ea1b111cfa22')\"\n",
              "              title=\"Convert this dataframe to an interactive table.\"\n",
              "              style=\"display:none;\">\n",
              "        \n",
              "  <svg xmlns=\"http://www.w3.org/2000/svg\" height=\"24px\"viewBox=\"0 0 24 24\"\n",
              "       width=\"24px\">\n",
              "    <path d=\"M0 0h24v24H0V0z\" fill=\"none\"/>\n",
              "    <path d=\"M18.56 5.44l.94 2.06.94-2.06 2.06-.94-2.06-.94-.94-2.06-.94 2.06-2.06.94zm-11 1L8.5 8.5l.94-2.06 2.06-.94-2.06-.94L8.5 2.5l-.94 2.06-2.06.94zm10 10l.94 2.06.94-2.06 2.06-.94-2.06-.94-.94-2.06-.94 2.06-2.06.94z\"/><path d=\"M17.41 7.96l-1.37-1.37c-.4-.4-.92-.59-1.43-.59-.52 0-1.04.2-1.43.59L10.3 9.45l-7.72 7.72c-.78.78-.78 2.05 0 2.83L4 21.41c.39.39.9.59 1.41.59.51 0 1.02-.2 1.41-.59l7.78-7.78 2.81-2.81c.8-.78.8-2.07 0-2.86zM5.41 20L4 18.59l7.72-7.72 1.47 1.35L5.41 20z\"/>\n",
              "  </svg>\n",
              "      </button>\n",
              "      \n",
              "  <style>\n",
              "    .colab-df-container {\n",
              "      display:flex;\n",
              "      flex-wrap:wrap;\n",
              "      gap: 12px;\n",
              "    }\n",
              "\n",
              "    .colab-df-convert {\n",
              "      background-color: #E8F0FE;\n",
              "      border: none;\n",
              "      border-radius: 50%;\n",
              "      cursor: pointer;\n",
              "      display: none;\n",
              "      fill: #1967D2;\n",
              "      height: 32px;\n",
              "      padding: 0 0 0 0;\n",
              "      width: 32px;\n",
              "    }\n",
              "\n",
              "    .colab-df-convert:hover {\n",
              "      background-color: #E2EBFA;\n",
              "      box-shadow: 0px 1px 2px rgba(60, 64, 67, 0.3), 0px 1px 3px 1px rgba(60, 64, 67, 0.15);\n",
              "      fill: #174EA6;\n",
              "    }\n",
              "\n",
              "    [theme=dark] .colab-df-convert {\n",
              "      background-color: #3B4455;\n",
              "      fill: #D2E3FC;\n",
              "    }\n",
              "\n",
              "    [theme=dark] .colab-df-convert:hover {\n",
              "      background-color: #434B5C;\n",
              "      box-shadow: 0px 1px 3px 1px rgba(0, 0, 0, 0.15);\n",
              "      filter: drop-shadow(0px 1px 2px rgba(0, 0, 0, 0.3));\n",
              "      fill: #FFFFFF;\n",
              "    }\n",
              "  </style>\n",
              "\n",
              "      <script>\n",
              "        const buttonEl =\n",
              "          document.querySelector('#df-87acd531-3153-4266-911c-ea1b111cfa22 button.colab-df-convert');\n",
              "        buttonEl.style.display =\n",
              "          google.colab.kernel.accessAllowed ? 'block' : 'none';\n",
              "\n",
              "        async function convertToInteractive(key) {\n",
              "          const element = document.querySelector('#df-87acd531-3153-4266-911c-ea1b111cfa22');\n",
              "          const dataTable =\n",
              "            await google.colab.kernel.invokeFunction('convertToInteractive',\n",
              "                                                     [key], {});\n",
              "          if (!dataTable) return;\n",
              "\n",
              "          const docLinkHtml = 'Like what you see? Visit the ' +\n",
              "            '<a target=\"_blank\" href=https://colab.research.google.com/notebooks/data_table.ipynb>data table notebook</a>'\n",
              "            + ' to learn more about interactive tables.';\n",
              "          element.innerHTML = '';\n",
              "          dataTable['output_type'] = 'display_data';\n",
              "          await google.colab.output.renderOutput(dataTable, element);\n",
              "          const docLink = document.createElement('div');\n",
              "          docLink.innerHTML = docLinkHtml;\n",
              "          element.appendChild(docLink);\n",
              "        }\n",
              "      </script>\n",
              "    </div>\n",
              "  </div>\n",
              "  "
            ]
          },
          "metadata": {},
          "execution_count": 10
        }
      ]
    },
    {
      "cell_type": "code",
      "source": [
        "kmeans = KMeans(n_clusters=4)"
      ],
      "metadata": {
        "id": "NXPP1v-Iu6-C"
      },
      "execution_count": null,
      "outputs": []
    },
    {
      "cell_type": "code",
      "source": [
        "kmeans.fit(df)"
      ],
      "metadata": {
        "colab": {
          "base_uri": "https://localhost:8080/"
        },
        "id": "Bzbqwq0pvBVM",
        "outputId": "49b35f9a-fc04-47e7-b2cf-7f0ba4bc2bd9"
      },
      "execution_count": null,
      "outputs": [
        {
          "output_type": "execute_result",
          "data": {
            "text/plain": [
              "KMeans(n_clusters=4)"
            ]
          },
          "metadata": {},
          "execution_count": 11
        }
      ]
    },
    {
      "cell_type": "code",
      "source": [
        "kmeans.labels_"
      ],
      "metadata": {
        "colab": {
          "base_uri": "https://localhost:8080/"
        },
        "id": "2PxJIgO-vMKP",
        "outputId": "252252ef-27b0-40d2-e265-bae9b4081fb3"
      },
      "execution_count": null,
      "outputs": [
        {
          "output_type": "execute_result",
          "data": {
            "text/plain": [
              "array([3, 3, 3, 1, 1, 0, 3, 2, 0, 0, 3, 0, 3, 2, 1, 0, 3, 0, 2, 1, 2, 3,\n",
              "       0, 1, 3, 0, 3, 0, 0, 2, 0, 1, 2, 3, 0, 3, 0, 3, 1, 2, 0, 2, 1, 0,\n",
              "       0, 1, 0, 1, 1, 3, 3, 2, 0, 2, 3, 2, 2, 0, 1, 2, 3, 2, 3, 0, 1, 2,\n",
              "       3, 2, 0, 1, 1, 1, 1, 2, 0, 3, 1, 0, 3, 1, 1, 3, 0, 1, 3, 1, 2, 1,\n",
              "       1, 3, 2, 0, 3, 3, 3, 1, 1, 2, 3, 3, 2, 0, 3, 1, 0, 0, 3, 2, 3, 0,\n",
              "       1, 0, 1, 3, 0, 3, 1, 1, 2, 1, 0, 3, 2, 0, 0, 3, 0, 3, 2, 1, 0, 3,\n",
              "       0, 2, 1, 2, 3, 0, 2, 3, 0, 3, 0, 0, 2, 0, 2, 2, 3, 0, 3, 0, 3, 1,\n",
              "       0, 0, 2, 1, 0, 0, 1, 0, 1, 1, 3, 1, 2, 0, 2, 3, 0, 2, 0, 1, 2, 3,\n",
              "       2, 3, 0, 2, 2, 3, 2, 0, 1, 1, 1, 1, 2, 0, 3, 1, 0, 3, 1, 1, 3, 0,\n",
              "       1, 3, 1, 2, 2, 1, 3, 2, 0, 3, 3, 3, 1, 1, 2, 3, 3, 2, 0, 3, 1, 0,\n",
              "       0, 1, 2, 3, 0, 1, 0, 1, 3, 0, 3, 1, 1, 2, 1, 0, 3, 2, 0, 0, 3, 0,\n",
              "       3, 2, 1, 0, 3, 0, 2, 1, 2, 3, 0, 2, 3, 0, 3, 0, 0, 2, 0, 2, 2, 3,\n",
              "       0, 3, 0, 3, 1, 0, 0, 2, 1, 0, 0, 1, 0, 1, 1, 3, 1, 0, 0, 2, 3, 2,\n",
              "       2, 0, 1, 2, 3, 2, 3, 0, 2, 2, 3, 2, 0, 1, 1, 1, 1, 2, 0, 3, 1, 0,\n",
              "       3, 1, 1, 3, 0, 1, 3, 1, 2, 2, 1, 3, 2, 0, 3, 3, 3, 1, 1, 2, 3, 3,\n",
              "       2, 0, 3, 1, 0, 0, 3, 2, 3, 0, 1, 0, 1, 3, 0, 3, 1, 1, 2, 1, 0, 3,\n",
              "       2, 0, 0, 3, 0, 3, 2, 1, 0, 3, 0, 2, 1, 2, 3, 0, 2, 3, 0, 3, 0, 0,\n",
              "       2, 0, 1, 2, 3, 0, 3, 0, 3, 1, 0, 0, 2, 1, 0, 0, 1, 0, 1, 1, 3, 1,\n",
              "       2, 0, 2, 3, 2, 2, 0, 1, 2, 3, 2, 3, 0, 2, 2, 3, 2, 0, 1, 1, 1, 1,\n",
              "       2, 0, 3, 1, 0, 3, 1, 1, 3, 0, 1, 3, 1, 2, 1, 1, 3, 2, 0, 3, 3, 3,\n",
              "       1, 1, 2, 3, 3, 2, 0, 3, 1, 0, 0, 1, 2, 3, 0, 1, 0, 1, 3, 0, 3, 1,\n",
              "       1, 2, 1, 0, 1, 2, 0, 0, 3, 0, 3, 2, 1, 0, 3, 0, 2, 1, 2, 3, 0, 2,\n",
              "       3, 0, 3, 0, 0, 2, 0, 2, 2, 3, 0, 3, 0, 3, 1, 0, 0, 2, 1, 0, 0, 1,\n",
              "       0, 1, 1, 3, 1, 2, 0, 2, 3, 2, 2, 0, 1, 2, 3, 2, 3, 0, 2, 2, 3, 2,\n",
              "       0, 2, 1, 1, 1, 2, 0, 3, 1, 0, 3, 1, 1, 3, 0, 1, 3, 1, 2],\n",
              "      dtype=int32)"
            ]
          },
          "metadata": {},
          "execution_count": 12
        }
      ]
    },
    {
      "cell_type": "code",
      "source": [
        "df[\"label\"] = kmeans.labels_"
      ],
      "metadata": {
        "id": "YBJfzwZKvSgl"
      },
      "execution_count": null,
      "outputs": []
    },
    {
      "cell_type": "code",
      "source": [
        "df.columns"
      ],
      "metadata": {
        "colab": {
          "base_uri": "https://localhost:8080/"
        },
        "id": "pM3Jyoydx-Z3",
        "outputId": "1af72509-4813-4b46-f3a9-b5fcc04efdd2"
      },
      "execution_count": null,
      "outputs": [
        {
          "output_type": "execute_result",
          "data": {
            "text/plain": [
              "Index(['Weight', 'Cholesterol', 'Gender', 'label'], dtype='object')"
            ]
          },
          "metadata": {},
          "execution_count": 34
        }
      ]
    },
    {
      "cell_type": "code",
      "source": [
        "cluster_0 = df[df.label == 0]\n",
        "cluster_1 = df[df.label == 1]\n",
        "cluster_2 = df[df.label == 2]\n",
        "cluster_3 = df[df.label == 3]"
      ],
      "metadata": {
        "id": "ut5lICq-vUk7"
      },
      "execution_count": null,
      "outputs": []
    },
    {
      "cell_type": "code",
      "source": [
        "plt.hist(cluster_0[\"Weight\"],bins=20, label=\"cluster_0\")\n",
        "plt.hist(cluster_1[\"Weight\"],bins=20, label=\"cluster_1\")\n",
        "plt.hist(cluster_2[\"Weight\"],bins=20, label=\"cluster_2\")\n",
        "plt.hist(cluster_3[\"Weight\"],bins=20, label=\"cluster_3\")\n",
        "plt.xlabel(\"Weight\", fontsize=14)\n",
        "plt.ylabel(\"Frequency\", fontsize=14)\n",
        "plt.legend()\n",
        "plt.show()"
      ],
      "metadata": {
        "colab": {
          "base_uri": "https://localhost:8080/",
          "height": 283
        },
        "id": "ZOzMOOjmx1Kn",
        "outputId": "f50c0921-5920-4e83-bb83-50175c79aea3"
      },
      "execution_count": null,
      "outputs": [
        {
          "output_type": "display_data",
          "data": {
            "text/plain": [
              "<Figure size 432x288 with 1 Axes>"
            ],
            "image/png": "[encoded data removed]"
          },
          "metadata": {
            "needs_background": "light"
          }
        }
      ]
    },
    {
      "cell_type": "code",
      "source": [
        "df.columns"
      ],
      "metadata": {
        "colab": {
          "base_uri": "https://localhost:8080/"
        },
        "id": "aRDQqxjZyb_8",
        "outputId": "1ea4e6c1-ce8c-417a-d839-fcf760c1693f"
      },
      "execution_count": null,
      "outputs": [
        {
          "output_type": "execute_result",
          "data": {
            "text/plain": [
              "Index(['Weight', 'Cholesterol', 'Gender', 'label'], dtype='object')"
            ]
          },
          "metadata": {},
          "execution_count": 45
        }
      ]
    },
    {
      "cell_type": "code",
      "source": [
        "plt.hist(cluster_0[\"Cholesterol\"],bins=20, label=\"cluster_0\")\n",
        "plt.hist(cluster_1[\"Cholesterol\"],bins=20, label=\"cluster_1\")\n",
        "plt.hist(cluster_2[\"Cholesterol\"],bins=20, label=\"cluster_2\")\n",
        "plt.hist(cluster_3[\"Cholesterol\"],bins=20, label=\"cluster_3\")\n",
        "plt.xlabel(\"Cholesterol\", fontsize=14)\n",
        "plt.ylabel(\"Frequency\", fontsize=14)\n",
        "plt.show()"
      ],
      "metadata": {
        "colab": {
          "base_uri": "https://localhost:8080/",
          "height": 283
        },
        "id": "N9V1gZWavhrq",
        "outputId": "11fbbe97-cf6f-4343-fef2-0df85858a288"
      },
      "execution_count": null,
      "outputs": [
        {
          "output_type": "display_data",
          "data": {
            "text/plain": [
              "<Figure size 432x288 with 1 Axes>"
            ],
            "image/png": "[encoded data removed]"
          },
          "metadata": {
            "needs_background": "light"
          }
        }
      ]
    },
    {
      "cell_type": "code",
      "source": [
        "plt.hist(cluster_0[\"Gender\"], label=\"cluster_0\")\n",
        "plt.hist(cluster_1[\"Gender\"], label=\"cluster_1\")\n",
        "plt.hist(cluster_2[\"Gender\"], label=\"cluster_2\")\n",
        "plt.hist(cluster_3[\"Gender\"], label=\"cluster_3\")\n",
        "plt.xlabel(\"Gender\", fontsize=14)\n",
        "plt.ylabel(\"Frequency\", fontsize=14)\n",
        "plt.legend()\n",
        "plt.show()"
      ],
      "metadata": {
        "colab": {
          "base_uri": "https://localhost:8080/",
          "height": 283
        },
        "id": "8VS2dzeFzS8S",
        "outputId": "ad811c00-07b2-4185-f27d-45d4764c42c0"
      },
      "execution_count": null,
      "outputs": [
        {
          "output_type": "display_data",
          "data": {
            "text/plain": [
              "<Figure size 432x288 with 1 Axes>"
            ],
            "image/png": "[encoded data removed]"
          },
          "metadata": {
            "needs_background": "light"
          }
        }
      ]
    },
    {
      "cell_type": "markdown",
      "source": [
        "### Classification"
      ],
      "metadata": {
        "id": "oWKkv-R_82WH"
      }
    },
    {
      "cell_type": "code",
      "source": [
        "from sklearn.linear_model import LogisticRegression\n",
        "from sklearn.preprocessing import OrdinalEncoder\n",
        "from sklearn.model_selection import StratifiedShuffleSplit\n",
        "from sklearn.model_selection import train_test_split\n",
        "from sklearn.metrics import accuracy_score, confusion_matrix, precision_score, recall_score, f1_score"
      ],
      "metadata": {
        "id": "sdOCl382vle1"
      },
      "execution_count": 102,
      "outputs": []
    },
    {
      "cell_type": "code",
      "source": [
        "df = pd.read_csv(\"/content/Chapter09DataSet_Training.csv\")"
      ],
      "metadata": {
        "id": "h145hmB191rI"
      },
      "execution_count": 60,
      "outputs": []
    },
    {
      "cell_type": "code",
      "source": [
        "X = df.iloc[:,:-1]\n",
        "y = df.iloc[:,-1].values\n",
        "\n",
        "enc = OrdinalEncoder()\n",
        "y = enc.fit_transform(y.reshape(-1,1))"
      ],
      "metadata": {
        "id": "jxJoCUYQ96HB"
      },
      "execution_count": 97,
      "outputs": []
    },
    {
      "cell_type": "code",
      "source": [
        "X_train, X_test, y_train, y_test = train_test_split(X,y, test_size=0.2)"
      ],
      "metadata": {
        "id": "YQn55thwBLfH"
      },
      "execution_count": 98,
      "outputs": []
    },
    {
      "cell_type": "code",
      "source": [
        "log = LogisticRegression(max_iter=1000)\n",
        "log.fit(X_train,y_train)"
      ],
      "metadata": {
        "colab": {
          "base_uri": "https://localhost:8080/"
        },
        "id": "Kj5cCe_L-DIW",
        "outputId": "f5f48b2e-345b-45a9-8d27-aa1f29de80ea"
      },
      "execution_count": 99,
      "outputs": [
        {
          "output_type": "stream",
          "name": "stderr",
          "text": [
            "/usr/local/lib/python3.7/dist-packages/sklearn/utils/validation.py:993: DataConversionWarning: A column-vector y was passed when a 1d array was expected. Please change the shape of y to (n_samples, ), for example using ravel().\n",
            "  y = column_or_1d(y, warn=True)\n"
          ]
        },
        {
          "output_type": "execute_result",
          "data": {
            "text/plain": [
              "LogisticRegression(max_iter=1000)"
            ]
          },
          "metadata": {},
          "execution_count": 99
        }
      ]
    },
    {
      "cell_type": "code",
      "source": [
        "accuracy_score,\n",
        "y_pred = log.predict(X_test)\n",
        "accuracy_score(y_pred, y_test)"
      ],
      "metadata": {
        "colab": {
          "base_uri": "https://localhost:8080/"
        },
        "id": "Du2zBgrDApnX",
        "outputId": "868a072a-c89b-40ee-e7ed-bd8686693485"
      },
      "execution_count": 104,
      "outputs": [
        {
          "output_type": "execute_result",
          "data": {
            "text/plain": [
              "0.9285714285714286"
            ]
          },
          "metadata": {},
          "execution_count": 104
        }
      ]
    },
    {
      "cell_type": "code",
      "source": [],
      "metadata": {
        "id": "EE4fnSl3BnpV"
      },
      "execution_count": null,
      "outputs": []
    }
  ]
}