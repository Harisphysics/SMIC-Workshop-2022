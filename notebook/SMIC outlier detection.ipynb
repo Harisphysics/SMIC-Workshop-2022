{
 "cells": [
  {
   "cell_type": "markdown",
   "id": "21669489",
   "metadata": {},
   "source": [
    "Dalam bagian ini akan dipelajari metode untuk mendeteksi keberadaan outlier di dalam data yang kita miliki.\n",
    "Outlier kemudian dikeluarkan dari data untuk mendapatkan performa model yang lebih baik"
   ]
  },
  {
   "cell_type": "markdown",
   "id": "6bd05682",
   "metadata": {},
   "source": [
    "1. Metode Isolation Forest"
   ]
  },
  {
   "cell_type": "markdown",
   "id": "91d7a91b",
   "metadata": {},
   "source": [
    "- Menggunakan data synthetic"
   ]
  },
  {
   "cell_type": "code",
   "execution_count": 78,
   "id": "4b47a1b5",
   "metadata": {},
   "outputs": [],
   "source": [
    "import numpy as np\n",
    "import matplotlib.pyplot as plt\n",
    "from sklearn.ensemble import IsolationForest"
   ]
  },
  {
   "cell_type": "code",
   "execution_count": 4,
   "id": "52f38fb3",
   "metadata": {},
   "outputs": [],
   "source": [
    "rng = np.random.RandomState(42)\n",
    "\n",
    "# Generate train data\n",
    "X = 0.3 * rng.randn(100, 2)\n",
    "X_train = np.r_[X + 2, X - 2]\n",
    "# Generate some regular novel observations\n",
    "X = 0.3 * rng.randn(20, 2)\n",
    "X_test = np.r_[X + 2, X - 2]\n",
    "# Generate some abnormal novel observations\n",
    "X_outliers = rng.uniform(low=-4, high=4, size=(20, 2))"
   ]
  },
  {
   "cell_type": "code",
   "execution_count": 31,
   "id": "39dbcb46",
   "metadata": {},
   "outputs": [
    {
     "data": {
      "text/plain": [
       "<matplotlib.collections.PathCollection at 0x24134e051c0>"
      ]
     },
     "execution_count": 31,
     "metadata": {},
     "output_type": "execute_result"
    },
    {
     "data": {
      "image/png": "[encoded data removed]",
      "text/plain": [
       "<Figure size 432x288 with 1 Axes>"
      ]
     },
     "metadata": {
      "needs_background": "light"
     },
     "output_type": "display_data"
    }
   ],
   "source": [
    "plt.scatter(X_train[:,0], X_train[:,1])\n",
    "plt.scatter(X_test[:,0], X_test[:,1])\n",
    "plt.scatter(X_outliers[:,0], X_outliers[:,1])"
   ]
  },
  {
   "cell_type": "code",
   "execution_count": 62,
   "id": "0009cf6a",
   "metadata": {},
   "outputs": [],
   "source": [
    "clf = IsolationForest(contamination=0.1, max_samples=100, random_state=rng)\n",
    "clf.fit(X_train)\n",
    "y_pred_train = clf.predict(X_train)\n",
    "y_pred_test = clf.predict(X_test)\n",
    "y_pred_outliers = clf.predict(X_outliers)"
   ]
  },
  {
   "cell_type": "code",
   "execution_count": 63,
   "id": "fe75bd2c",
   "metadata": {},
   "outputs": [],
   "source": [
    "# select all rows that are not outliers\n",
    "mask = y_pred_train != -1\n",
    "train_not_otl = X_train[mask,:]\n",
    "# select all rows that are not outliers\n",
    "mask = y_pred_train == -1\n",
    "train_otl = X_train[mask,:]"
   ]
  },
  {
   "cell_type": "code",
   "execution_count": 64,
   "id": "187c1069",
   "metadata": {},
   "outputs": [],
   "source": [
    "# select all rows that are not outliers\n",
    "mask = y_pred_test != -1\n",
    "test_not_otl = X_test[mask,:]\n",
    "# select all rows that are not outliers\n",
    "mask = y_pred_test == -1\n",
    "test_otl = X_test[mask,:]"
   ]
  },
  {
   "cell_type": "code",
   "execution_count": 65,
   "id": "12cbf456",
   "metadata": {},
   "outputs": [],
   "source": [
    "# select all rows that are not outliers\n",
    "mask = y_pred_outliers != -1\n",
    "outl_not_otl = X_outliers[mask,:]\n",
    "# select all rows that are not outliers\n",
    "mask = y_pred_outliers == -1\n",
    "outl_otl = X_outliers[mask,:]"
   ]
  },
  {
   "cell_type": "code",
   "execution_count": 67,
   "id": "0b512b3f",
   "metadata": {},
   "outputs": [
    {
     "data": {
      "text/plain": [
       "<matplotlib.legend.Legend at 0x24136262190>"
      ]
     },
     "execution_count": 67,
     "metadata": {},
     "output_type": "execute_result"
    },
    {
     "data": {
      "image/png": "[encoded data removed]",
      "text/plain": [
       "<Figure size 432x288 with 1 Axes>"
      ]
     },
     "metadata": {
      "needs_background": "light"
     },
     "output_type": "display_data"
    }
   ],
   "source": [
    "plt.scatter(train_not_otl[:,0], train_not_otl[:,1], label=\"train_not_outlier\")\n",
    "plt.scatter(train_otl[:,0], train_otl[:,1], label=\"train_outlier\")\n",
    "\n",
    "plt.scatter(test_not_otl[:,0], test_not_otl[:,1], label=\"test_not_outlier\")\n",
    "plt.scatter(test_otl[:,0], test_otl[:,1], label=\"test_outlier\")\n",
    "\n",
    "plt.scatter(outl_not_otl[:,0], outl_not_otl[:,1], label=\"out_not_outlier\")\n",
    "plt.scatter(outl_otl[:,0], outl_otl[:,1], label=\"out_outlier\")\n",
    "\n",
    "plt.legend()"
   ]
  },
  {
   "cell_type": "markdown",
   "id": "12cf317f",
   "metadata": {},
   "source": [
    "Untuk metode deteksi outlier lainnya dapat dilihat dalam website berikut :\n",
    "https://machinelearningmastery.com/model-based-outlier-detection-and-removal-in-python/"
   ]
  },
  {
   "cell_type": "markdown",
   "id": "3cc45590",
   "metadata": {},
   "source": [
    "- Menggunakan data real world"
   ]
  },
  {
   "cell_type": "code",
   "execution_count": 74,
   "id": "8d3b1c06",
   "metadata": {},
   "outputs": [],
   "source": [
    "from pandas import read_csv\n",
    "from sklearn.model_selection import train_test_split\n",
    "from sklearn.linear_model import LinearRegression\n",
    "from sklearn.metrics import mean_absolute_error\n",
    "import pandas as pd\n",
    "\n",
    "from sklearn.preprocessing import StandardScaler\n",
    "from sklearn.preprocessing import OneHotEncoder\n",
    "from sklearn.model_selection import train_test_split"
   ]
  },
  {
   "cell_type": "code",
   "execution_count": 71,
   "id": "f9bcc6e8",
   "metadata": {},
   "outputs": [],
   "source": [
    "data = pd.read_csv(\"https://raw.githubusercontent.com/ageron/handson-ml2/master/datasets/housing/housing.csv\")\n",
    "median = data[\"total_bedrooms\"].median()\n",
    "data[\"total_bedrooms\"].fillna(median, inplace=True)\n",
    "data[\"rooms_per_household\"] = data[\"total_rooms\"]/data[\"households\"]\n",
    "data[\"bedrooms_per_room\"] = data[\"total_bedrooms\"]/data[\"total_rooms\"]\n",
    "data[\"population_per_household\"] = data[\"population\"]/data[\"households\"]"
   ]
  },
  {
   "cell_type": "code",
   "execution_count": 75,
   "id": "cf61d2aa",
   "metadata": {},
   "outputs": [],
   "source": [
    "X = data.drop(\"median_house_value\", axis=1)\n",
    "y = data[\"median_house_value\"]\n",
    "\n",
    "X_num = X.select_dtypes(exclude=[\"object\"])\n",
    "X_cat = X.select_dtypes(include=[\"object\"])\n",
    "\n",
    "onehot = OneHotEncoder()\n",
    "X_cat_trans = onehot.fit_transform(X_cat)\n",
    "X_cat_trans = X_cat_trans.toarray()\n",
    "X_cat = pd.DataFrame(X_cat_trans, columns=onehot.categories_[0])\n",
    "\n",
    "scaler = StandardScaler()\n",
    "X_num_trans = scaler.fit_transform(X_num)\n",
    "X_num = pd.DataFrame(X_num_trans, columns=X_num.columns)\n",
    "\n",
    "X = pd.concat([X_num, X_cat], axis=1)"
   ]
  },
  {
   "cell_type": "code",
   "execution_count": 93,
   "id": "a3b0ebc2",
   "metadata": {},
   "outputs": [],
   "source": [
    "X_train, X_test, y_train, y_test = train_test_split(X, y, test_size=0.33, random_state=1)"
   ]
  },
  {
   "cell_type": "code",
   "execution_count": 77,
   "id": "7b6a03d8",
   "metadata": {},
   "outputs": [
    {
     "name": "stdout",
     "output_type": "stream",
     "text": [
      "MAE: 49604.501\n"
     ]
    }
   ],
   "source": [
    "# fit the model\n",
    "model = LinearRegression()\n",
    "model.fit(X_train, y_train)\n",
    "# evaluate the model\n",
    "yhat = model.predict(X_test)\n",
    "# evaluate predictions\n",
    "mae = mean_absolute_error(y_test, yhat)\n",
    "print('MAE: %.3f' % mae)"
   ]
  },
  {
   "cell_type": "code",
   "execution_count": 131,
   "id": "1c4400ab",
   "metadata": {},
   "outputs": [
    {
     "name": "stdout",
     "output_type": "stream",
     "text": [
      "(13551, 16) (13551,)\n",
      "MAE: 49417.025\n"
     ]
    }
   ],
   "source": [
    "X_train, X_test, y_train, y_test = train_test_split(X, y, test_size=0.33, random_state=1)\n",
    "\n",
    "iso = IsolationForest(contamination=0.02, random_state=1)\n",
    "yhat = iso.fit_predict(X_train)\n",
    "# select all rows that are not outliers\n",
    "mask = yhat != -1\n",
    "X_train, y_train = X_train.values[mask, :], y_train.values[mask]\n",
    "# summarize the shape of the updated training dataset\n",
    "print(X_train.shape, y_train.shape)\n",
    "# fit the model\n",
    "model = LinearRegression()\n",
    "model.fit(X_train, y_train)\n",
    "# evaluate the model\n",
    "yhat = model.predict(X_test)\n",
    "# evaluate predictions\n",
    "mae = mean_absolute_error(y_test, yhat)\n",
    "print('MAE: %.3f' % mae)"
   ]
  }
 ],
 "metadata": {
  "kernelspec": {
   "display_name": "Python 3 (ipykernel)",
   "language": "python",
   "name": "python3"
  },
  "language_info": {
   "codemirror_mode": {
    "name": "ipython",
    "version": 3
   },
   "file_extension": ".py",
   "mimetype": "text/x-python",
   "name": "python",
   "nbconvert_exporter": "python",
   "pygments_lexer": "ipython3",
   "version": "3.9.7"
  }
 },
 "nbformat": 4,
 "nbformat_minor": 5
}
